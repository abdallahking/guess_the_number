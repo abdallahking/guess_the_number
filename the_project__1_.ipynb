{
  "nbformat": 4,
  "nbformat_minor": 0,
  "metadata": {
    "colab": {
      "provenance": [],
      "collapsed_sections": [
        "Qs2g6yqwyvoa"
      ]
    },
    "kernelspec": {
      "name": "python3",
      "display_name": "Python 3"
    },
    "language_info": {
      "name": "python"
    }
  },
  "cells": [
    {
      "cell_type": "markdown",
      "source": [
        "##The first project **:**\n",
        "**(**guess the number**)**"
      ],
      "metadata": {
        "id": "Qs2g6yqwyvoa"
      }
    },
    {
      "cell_type": "code",
      "source": [
        "import random"
      ],
      "metadata": {
        "id": "uZMvliab0EMs"
      },
      "execution_count": null,
      "outputs": []
    },
    {
      "cell_type": "code",
      "source": [
        "WIN = 0\n",
        "LOSE = 0\n",
        "Is_playing = True\n",
        "i = 0\n",
        "NUM = range(0,100)\n",
        "NAME = input(\"please enter your name: \")\n",
        "if NAME == \"Abdallah\" :\n",
        "  print(\"Oh your name is the same of my name!\")\n",
        "  print(f'''welcome {NAME} in your game:\n",
        "(guess the number)''')\n",
        "  print('''enjou with it...\n",
        "  ''')\n",
        "elif NAME == \"Abdallah.\":\n",
        "  print('''welcome my king in your game:\n",
        "(guess the number)''')\n",
        "  print('''enjou with it...\n",
        "  ''')\n",
        "else :\n",
        "  print(f'''welcome {NAME} in my game:\n",
        "(guess the number)''')\n",
        "  print('''enjou with it...\n",
        "  ''')\n",
        "num=random.randrange(0,100)\n",
        "i = 0\n",
        "while Is_playing:\n",
        "  number = int(input(\"write a guess about the number: \"))\n",
        "  if number not in NUM :\n",
        "    print(\"there is a proplem.\")\n",
        "    Is_playing = False\n",
        "  if number < num :\n",
        "    print(\"your num is smaller than the number. \")\n",
        "    MAth = LOSE = LOSE + 1\n",
        "  elif number > num:\n",
        "    print(\"your num is bigger than the number\")\n",
        "    MATH = LOSE = LOSE + 1\n",
        "  elif number == num:\n",
        "    print(\"Bravoo 👏🏻 you find the number 🥳!\")\n",
        "    Math = WIN = WIN + 1\n",
        "  print(\"============== END OF THIS GAME ==============\")\n",
        "  close_the_game=int(input('''Are you want to play again?\n",
        "  1) Yes.\n",
        "  2) No. '''))\n",
        "  if close_the_game == 1 :\n",
        "    Is_playing = True\n",
        "  if close_the_game == 2 :\n",
        "    break\n",
        "\n",
        "  i = i + 1\n",
        "\n",
        "print(f\"you play this game onse {i + 1}.\")\n",
        "print(f'''Look {NAME} you are good in this game, but this is your results:\n",
        "  you find the number for {WIN}.\n",
        "  and you can't find th number for {LOSE}.''')\n",
        "if WIN > LOSE :\n",
        "  print(\"Go up and keep it mind 👏🏻\")\n",
        "elif WIN < LOSE :\n",
        "  print(\"No problem. You will win in the next level.\")\n",
        "print(\"============== END OF THE GAME ==============\")"
      ],
      "metadata": {
        "id": "kjHVlugu0GqI"
      },
      "execution_count": null,
      "outputs": []
    }
  ]
}